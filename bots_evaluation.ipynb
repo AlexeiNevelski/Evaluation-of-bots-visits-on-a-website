{
 "cells": [
  {
   "cell_type": "markdown",
   "metadata": {},
   "source": [
    "# Задача 1\n",
    "\n",
    "Оценить количество ботов, которые заходят на наш сайт, и их долю от всего трафика.\n",
    "\n",
    "# Задача 2\n",
    "\n",
    "Определить, с каких источников и в какое время суток чаще всего заходят роботы."
   ]
  },
  {
   "cell_type": "markdown",
   "metadata": {},
   "source": [
    "### Предварительные шаги"
   ]
  },
  {
   "cell_type": "code",
   "execution_count": 1,
   "metadata": {},
   "outputs": [],
   "source": [
    "# Импортируем необходимые библиотеки.\n",
    "import pandas as pd\n",
    "import json\n",
    "import requests\n",
    "from pprint import pprint\n",
    "\n",
    "# Зададим токен и передадим его в заголовок будущих запросов.\n",
    "token = 'AQAAAABEKJdNAAg6waJ9YuN1lU13sdEibkmnTZ8'\n",
    "headers = {'Authorization': 'OAuth' + token}"
   ]
  },
  {
   "cell_type": "markdown",
   "metadata": {},
   "source": [
    "### Решение задачи 1\n",
    "\n",
    "Необходимо оценить количество ботов, которые заходят на наш сайт, и их долю от всего трафика.\n",
    "\n",
    "Чтобы определить, является ли посетитель сайта роботом, нам потребуется группировка ***ym:s:isRobot***. Оценивать их будем по количеству визитов ***ym:s:visits*** и количеству уникальных посетителей ***ym:s:users***."
   ]
  },
  {
   "cell_type": "code",
   "execution_count": 2,
   "metadata": {},
   "outputs": [
    {
     "name": "stdout",
     "output_type": "stream",
     "text": [
      "200\n"
     ]
    }
   ],
   "source": [
    "# Задаем параметры первого запроса.\n",
    "params1 = {\n",
    "    'metrics': 'ym:s:visits,ym:s:users',\n",
    "    'dimensions': 'ym:s:isRobot',\n",
    "    'date1': '2020-09-01',  \n",
    "    'date2': '2020-09-30',     \n",
    "    'ids': 30177909,\n",
    "    'accuracy':'full',\n",
    "    'limit':100000\n",
    "}\n",
    "\n",
    "# Отправляем запрос.\n",
    "response1 = requests.get(\n",
    "    'https://api-metrika.yandex.net/stat/v1/data', \n",
    "    params=params1, \n",
    "    headers=headers\n",
    ")\n",
    "# Если запрос корректный, код ответа будет равен 200.\n",
    "print(response1.status_code)"
   ]
  },
  {
   "cell_type": "code",
   "execution_count": 3,
   "metadata": {},
   "outputs": [
    {
     "name": "stdout",
     "output_type": "stream",
     "text": [
      "{'contains_sensitive_data': False,\n",
      " 'data': [{'dimensions': [{'id': 'no', 'name': 'People'}],\n",
      "           'metrics': [3353.0, 2515.0]},\n",
      "          {'dimensions': [{'id': 'yes', 'name': 'Robots'}],\n",
      "           'metrics': [962.0, 794.0]}],\n",
      " 'data_lag': 0,\n",
      " 'max': [3353.0, 2515.0],\n",
      " 'min': [962.0, 794.0],\n",
      " 'query': {'adfox_event_id': '0',\n",
      "           'attr_name': '',\n",
      "           'attribution': 'LastSign',\n",
      "           'auto_group_size': '1',\n",
      "           'currency': 'RUB',\n",
      "           'date1': '2020-09-01',\n",
      "           'date2': '2020-09-30',\n",
      "           'dimensions': ['ym:s:isRobot'],\n",
      "           'group': 'Week',\n",
      "           'ids': [30177909],\n",
      "           'limit': 100000,\n",
      "           'metrics': ['ym:s:visits', 'ym:s:users'],\n",
      "           'offline_window': '21',\n",
      "           'offset': 1,\n",
      "           'quantile': '50',\n",
      "           'sort': ['-ym:s:visits']},\n",
      " 'sample_share': 1.0,\n",
      " 'sample_size': 4315,\n",
      " 'sample_space': 4315,\n",
      " 'sampled': False,\n",
      " 'total_rows': 2,\n",
      " 'total_rows_rounded': False,\n",
      " 'totals': [4315.0, 3166.0]}\n"
     ]
    }
   ],
   "source": [
    "# Запишем данные ответа в переменную metrika_data1.\n",
    "metrika_data1 = response1.json()\n",
    "pprint(metrika_data1)\n"
   ]
  },
  {
   "cell_type": "code",
   "execution_count": 4,
   "metadata": {},
   "outputs": [
    {
     "data": {
      "text/html": [
       "<div>\n",
       "<style scoped>\n",
       "    .dataframe tbody tr th:only-of-type {\n",
       "        vertical-align: middle;\n",
       "    }\n",
       "\n",
       "    .dataframe tbody tr th {\n",
       "        vertical-align: top;\n",
       "    }\n",
       "\n",
       "    .dataframe thead th {\n",
       "        text-align: right;\n",
       "    }\n",
       "</style>\n",
       "<table border=\"1\" class=\"dataframe\">\n",
       "  <thead>\n",
       "    <tr style=\"text-align: right;\">\n",
       "      <th></th>\n",
       "      <th>dimensions</th>\n",
       "      <th>metrics</th>\n",
       "    </tr>\n",
       "  </thead>\n",
       "  <tbody>\n",
       "    <tr>\n",
       "      <th>0</th>\n",
       "      <td>[{'name': 'People', 'id': 'no'}]</td>\n",
       "      <td>[3353.0, 2515.0]</td>\n",
       "    </tr>\n",
       "    <tr>\n",
       "      <th>1</th>\n",
       "      <td>[{'name': 'Robots', 'id': 'yes'}]</td>\n",
       "      <td>[962.0, 794.0]</td>\n",
       "    </tr>\n",
       "  </tbody>\n",
       "</table>\n",
       "</div>"
      ],
      "text/plain": [
       "                          dimensions           metrics\n",
       "0   [{'name': 'People', 'id': 'no'}]  [3353.0, 2515.0]\n",
       "1  [{'name': 'Robots', 'id': 'yes'}]    [962.0, 794.0]"
      ]
     },
     "metadata": {},
     "output_type": "display_data"
    }
   ],
   "source": [
    "# Для более удобного представления данных создадим датафрейм.\n",
    "metrika_df1 = pd.DataFrame(metrika_data1['data'])\n",
    "display(metrika_df1)"
   ]
  },
  {
   "cell_type": "code",
   "execution_count": 5,
   "metadata": {},
   "outputs": [
    {
     "data": {
      "text/html": [
       "<div>\n",
       "<style scoped>\n",
       "    .dataframe tbody tr th:only-of-type {\n",
       "        vertical-align: middle;\n",
       "    }\n",
       "\n",
       "    .dataframe tbody tr th {\n",
       "        vertical-align: top;\n",
       "    }\n",
       "\n",
       "    .dataframe thead th {\n",
       "        text-align: right;\n",
       "    }\n",
       "</style>\n",
       "<table border=\"1\" class=\"dataframe\">\n",
       "  <thead>\n",
       "    <tr style=\"text-align: right;\">\n",
       "      <th></th>\n",
       "      <th>ym:s:isRobot</th>\n",
       "      <th>ym:s:visits</th>\n",
       "      <th>ym:s:users</th>\n",
       "    </tr>\n",
       "  </thead>\n",
       "  <tbody>\n",
       "    <tr>\n",
       "      <th>0</th>\n",
       "      <td>People</td>\n",
       "      <td>3353.0</td>\n",
       "      <td>2515.0</td>\n",
       "    </tr>\n",
       "    <tr>\n",
       "      <th>1</th>\n",
       "      <td>Robots</td>\n",
       "      <td>962.0</td>\n",
       "      <td>794.0</td>\n",
       "    </tr>\n",
       "  </tbody>\n",
       "</table>\n",
       "</div>"
      ],
      "text/plain": [
       "  ym:s:isRobot  ym:s:visits  ym:s:users\n",
       "0       People       3353.0      2515.0\n",
       "1       Robots        962.0       794.0"
      ]
     },
     "metadata": {},
     "output_type": "display_data"
    }
   ],
   "source": [
    "# Избавимся от вложенных словарей с помощью функции.\n",
    "def getMetrikaDataInListOfDicts(metrika_data):\n",
    "    list_of_dicts = []\n",
    "    dimensions_list = metrika_data['query']['dimensions']\n",
    "    metrics_list = metrika_data['query']['metrics']\n",
    "    for data_item in metrika_data['data']:\n",
    "        d ={}\n",
    "        for i, dimension in enumerate(data_item['dimensions']):\n",
    "            d[dimensions_list[i]] = dimension['name']\n",
    "        for i, metric in enumerate(data_item['metrics']):\n",
    "            d[metrics_list[i]] = metric\n",
    "        list_of_dicts.append(d)\n",
    "    return list_of_dicts\n",
    "\n",
    "metrika_list_of_dicts1 = getMetrikaDataInListOfDicts(metrika_data1)\n",
    "metrika_df1 = pd.DataFrame(metrika_list_of_dicts1)\n",
    "display(metrika_df1)"
   ]
  },
  {
   "cell_type": "code",
   "execution_count": 6,
   "metadata": {},
   "outputs": [
    {
     "data": {
      "text/html": [
       "<div>\n",
       "<style scoped>\n",
       "    .dataframe tbody tr th:only-of-type {\n",
       "        vertical-align: middle;\n",
       "    }\n",
       "\n",
       "    .dataframe tbody tr th {\n",
       "        vertical-align: top;\n",
       "    }\n",
       "\n",
       "    .dataframe thead th {\n",
       "        text-align: right;\n",
       "    }\n",
       "</style>\n",
       "<table border=\"1\" class=\"dataframe\">\n",
       "  <thead>\n",
       "    <tr style=\"text-align: right;\">\n",
       "      <th></th>\n",
       "      <th>Type of users</th>\n",
       "      <th>Visits</th>\n",
       "      <th>Users</th>\n",
       "      <th>Share of all visits, %</th>\n",
       "      <th>Share of all users, %</th>\n",
       "    </tr>\n",
       "  </thead>\n",
       "  <tbody>\n",
       "    <tr>\n",
       "      <th>0</th>\n",
       "      <td>People</td>\n",
       "      <td>3353.0</td>\n",
       "      <td>2515.0</td>\n",
       "      <td>77.7</td>\n",
       "      <td>76.0</td>\n",
       "    </tr>\n",
       "    <tr>\n",
       "      <th>1</th>\n",
       "      <td>Robots</td>\n",
       "      <td>962.0</td>\n",
       "      <td>794.0</td>\n",
       "      <td>22.3</td>\n",
       "      <td>24.0</td>\n",
       "    </tr>\n",
       "  </tbody>\n",
       "</table>\n",
       "</div>"
      ],
      "text/plain": [
       "  Type of users  Visits   Users  Share of all visits, %  Share of all users, %\n",
       "0        People  3353.0  2515.0                    77.7                   76.0\n",
       "1        Robots   962.0   794.0                    22.3                   24.0"
      ]
     },
     "metadata": {},
     "output_type": "display_data"
    }
   ],
   "source": [
    "# Переименуем столбцы.\n",
    "metrika_df1.columns = ['Type of users','Visits','Users']\n",
    "# Добавим столбцы, которые позволят оценить долю ботов от всего трафика.\n",
    "metrika_df1['Share of all visits, %'] = metrika_df1['Visits']/metrika_df1['Visits'].sum()\n",
    "metrika_df1['Share of all visits, %'] = round(metrika_df1['Share of all visits, %'], 3) * 100\n",
    "metrika_df1['Share of all users, %'] = metrika_df1['Users']/metrika_df1['Users'].sum()\n",
    "metrika_df1['Share of all users, %'] = round(metrika_df1['Share of all users, %'], 3) * 100\n",
    "display(metrika_df1)"
   ]
  },
  {
   "cell_type": "markdown",
   "metadata": {},
   "source": [
    "**Вывод:** \n",
    "\n",
    "В сентябре 2020 г. сайт посетили 794 робота, 24% от общего количества пользователей. Они совершили 962 визита, 22,3% от общего количества визитов."
   ]
  },
  {
   "cell_type": "markdown",
   "metadata": {},
   "source": [
    "### Решение задачи 2\n",
    "\n",
    "Необходимо определить, с каких источников и в какое время суток чаще всего заходят роботы.\n",
    "\n",
    "Это мы сделаем с помощью метрик ***ym:s:visits*** и ***ym:s:robotPercentage***. Сначала определим, с каких источников чаще всего заходят роботы.\n",
    "В качестве группировок я выбрал модель атрибуции ***firstTrafficSource***, поскольку она лучше всего подходит, когда необходимо понять, какой из источников привлекает больше новых посетителей на сайт. Затем определим, в какое время суток чаще всего заходят роботы. Для этого подойдет группировка ***ym:s:hour***, поскольку нас интересует только время, а не даты посещений. "
   ]
  },
  {
   "cell_type": "code",
   "execution_count": 7,
   "metadata": {},
   "outputs": [
    {
     "name": "stdout",
     "output_type": "stream",
     "text": [
      "200\n"
     ]
    }
   ],
   "source": [
    "# Задаем параметры второго запроса.\n",
    "params2 = {\n",
    "    'metrics': 'ym:s:visits,ym:s:robotPercentage',\n",
    "    'dimensions': 'ym:s:firstTrafficSource',\n",
    "    'date1': '2020-09-01',  \n",
    "    'date2': '2020-09-30',     \n",
    "    'ids': 30177909,\n",
    "    'accuracy':'full',\n",
    "    'limit':100000\n",
    "}\n",
    "response2 = requests.get(\n",
    "    'https://api-metrika.yandex.net/stat/v1/data', \n",
    "    params=params2, \n",
    "    headers=headers\n",
    ")\n",
    "print(response2.status_code)"
   ]
  },
  {
   "cell_type": "code",
   "execution_count": 8,
   "metadata": {},
   "outputs": [
    {
     "data": {
      "text/html": [
       "<div>\n",
       "<style scoped>\n",
       "    .dataframe tbody tr th:only-of-type {\n",
       "        vertical-align: middle;\n",
       "    }\n",
       "\n",
       "    .dataframe tbody tr th {\n",
       "        vertical-align: top;\n",
       "    }\n",
       "\n",
       "    .dataframe thead th {\n",
       "        text-align: right;\n",
       "    }\n",
       "</style>\n",
       "<table border=\"1\" class=\"dataframe\">\n",
       "  <thead>\n",
       "    <tr style=\"text-align: right;\">\n",
       "      <th></th>\n",
       "      <th>Traffic source</th>\n",
       "      <th>Visits</th>\n",
       "      <th>Share of robots, %</th>\n",
       "      <th>Visits of robots</th>\n",
       "    </tr>\n",
       "  </thead>\n",
       "  <tbody>\n",
       "    <tr>\n",
       "      <th>0</th>\n",
       "      <td>Search engine traffic</td>\n",
       "      <td>3248.0</td>\n",
       "      <td>22.32</td>\n",
       "      <td>725.0</td>\n",
       "    </tr>\n",
       "    <tr>\n",
       "      <th>1</th>\n",
       "      <td>Direct traffic</td>\n",
       "      <td>863.0</td>\n",
       "      <td>22.60</td>\n",
       "      <td>195.0</td>\n",
       "    </tr>\n",
       "    <tr>\n",
       "      <th>2</th>\n",
       "      <td>Link traffic</td>\n",
       "      <td>125.0</td>\n",
       "      <td>24.00</td>\n",
       "      <td>30.0</td>\n",
       "    </tr>\n",
       "    <tr>\n",
       "      <th>3</th>\n",
       "      <td>Social network traffic</td>\n",
       "      <td>70.0</td>\n",
       "      <td>15.71</td>\n",
       "      <td>11.0</td>\n",
       "    </tr>\n",
       "    <tr>\n",
       "      <th>4</th>\n",
       "      <td>Cached page traffic</td>\n",
       "      <td>4.0</td>\n",
       "      <td>25.00</td>\n",
       "      <td>1.0</td>\n",
       "    </tr>\n",
       "    <tr>\n",
       "      <th>5</th>\n",
       "      <td>Internal traffic</td>\n",
       "      <td>3.0</td>\n",
       "      <td>0.00</td>\n",
       "      <td>0.0</td>\n",
       "    </tr>\n",
       "    <tr>\n",
       "      <th>6</th>\n",
       "      <td>Recommendation system traffic</td>\n",
       "      <td>2.0</td>\n",
       "      <td>0.00</td>\n",
       "      <td>0.0</td>\n",
       "    </tr>\n",
       "  </tbody>\n",
       "</table>\n",
       "</div>"
      ],
      "text/plain": [
       "                  Traffic source  Visits  Share of robots, %  Visits of robots\n",
       "0          Search engine traffic  3248.0               22.32             725.0\n",
       "1                 Direct traffic   863.0               22.60             195.0\n",
       "2                   Link traffic   125.0               24.00              30.0\n",
       "3         Social network traffic    70.0               15.71              11.0\n",
       "4            Cached page traffic     4.0               25.00               1.0\n",
       "5               Internal traffic     3.0                0.00               0.0\n",
       "6  Recommendation system traffic     2.0                0.00               0.0"
      ]
     },
     "metadata": {},
     "output_type": "display_data"
    }
   ],
   "source": [
    "metrika_data2 = response2.json()\n",
    "metrika_list_of_dicts2 = getMetrikaDataInListOfDicts(metrika_data2)\n",
    "metrika_df2 = pd.DataFrame(metrika_list_of_dicts2)\n",
    "metrika_df2.columns = ['Traffic source','Visits','Share of robots, %']\n",
    "metrika_df2['Share of robots, %'] = round(metrika_df2['Share of robots, %'], 2)\n",
    "metrika_df2['Visits of robots'] = round((metrika_df2['Visits'] * metrika_df2['Share of robots, %']) / 100, 0)\n",
    "display(metrika_df2)"
   ]
  },
  {
   "cell_type": "markdown",
   "metadata": {},
   "source": [
    "**Вывод:**\n",
    "\n",
    "В сентябре 2020 г. роботы чаще всего попадали на сайт через поисковые системы (725 визитов) и по прямым переходам (195 визитов). Реже они заходили по ссылкам (30 визитов), из соцсетей(11 визитов) и по кэшированным страницам (1 визит).\n",
    "\n",
    "Как правило доля роботов от общего числа визитов составляла 22%-25%. Только при переходах из соцсетей она была заметно ниже - 15,71%."
   ]
  },
  {
   "cell_type": "code",
   "execution_count": 9,
   "metadata": {},
   "outputs": [
    {
     "name": "stdout",
     "output_type": "stream",
     "text": [
      "200\n"
     ]
    }
   ],
   "source": [
    "# Задаем параметры третьего запроса.\n",
    "params3 = {\n",
    "    'metrics': 'ym:s:visits,ym:s:robotPercentage',\n",
    "    'dimensions': 'ym:s:hour',\n",
    "    'date1': '2020-09-01',  \n",
    "    'date2': '2020-09-30',     \n",
    "    'ids': 30177909,\n",
    "    'accuracy':'full',\n",
    "    'limit':100000\n",
    "}\n",
    "response3 = requests.get(\n",
    "    'https://api-metrika.yandex.net/stat/v1/data', \n",
    "    params=params3, \n",
    "    headers=headers\n",
    ")\n",
    "print(response3.status_code)"
   ]
  },
  {
   "cell_type": "code",
   "execution_count": 10,
   "metadata": {},
   "outputs": [
    {
     "data": {
      "text/html": [
       "<div>\n",
       "<style scoped>\n",
       "    .dataframe tbody tr th:only-of-type {\n",
       "        vertical-align: middle;\n",
       "    }\n",
       "\n",
       "    .dataframe tbody tr th {\n",
       "        vertical-align: top;\n",
       "    }\n",
       "\n",
       "    .dataframe thead th {\n",
       "        text-align: right;\n",
       "    }\n",
       "</style>\n",
       "<table border=\"1\" class=\"dataframe\">\n",
       "  <thead>\n",
       "    <tr style=\"text-align: right;\">\n",
       "      <th></th>\n",
       "      <th>Hour</th>\n",
       "      <th>Visits</th>\n",
       "      <th>Share of robots, %</th>\n",
       "      <th>Visits of robots</th>\n",
       "    </tr>\n",
       "  </thead>\n",
       "  <tbody>\n",
       "    <tr>\n",
       "      <th>0</th>\n",
       "      <td>13:00</td>\n",
       "      <td>273.0</td>\n",
       "      <td>29.30</td>\n",
       "      <td>80.0</td>\n",
       "    </tr>\n",
       "    <tr>\n",
       "      <th>1</th>\n",
       "      <td>16:00</td>\n",
       "      <td>310.0</td>\n",
       "      <td>24.19</td>\n",
       "      <td>75.0</td>\n",
       "    </tr>\n",
       "    <tr>\n",
       "      <th>2</th>\n",
       "      <td>12:00</td>\n",
       "      <td>303.0</td>\n",
       "      <td>24.75</td>\n",
       "      <td>75.0</td>\n",
       "    </tr>\n",
       "    <tr>\n",
       "      <th>3</th>\n",
       "      <td>14:00</td>\n",
       "      <td>300.0</td>\n",
       "      <td>24.67</td>\n",
       "      <td>74.0</td>\n",
       "    </tr>\n",
       "    <tr>\n",
       "      <th>4</th>\n",
       "      <td>15:00</td>\n",
       "      <td>297.0</td>\n",
       "      <td>23.91</td>\n",
       "      <td>71.0</td>\n",
       "    </tr>\n",
       "    <tr>\n",
       "      <th>5</th>\n",
       "      <td>11:00</td>\n",
       "      <td>282.0</td>\n",
       "      <td>24.82</td>\n",
       "      <td>70.0</td>\n",
       "    </tr>\n",
       "    <tr>\n",
       "      <th>6</th>\n",
       "      <td>17:00</td>\n",
       "      <td>262.0</td>\n",
       "      <td>25.19</td>\n",
       "      <td>66.0</td>\n",
       "    </tr>\n",
       "    <tr>\n",
       "      <th>7</th>\n",
       "      <td>10:00</td>\n",
       "      <td>240.0</td>\n",
       "      <td>21.25</td>\n",
       "      <td>51.0</td>\n",
       "    </tr>\n",
       "    <tr>\n",
       "      <th>8</th>\n",
       "      <td>09:00</td>\n",
       "      <td>203.0</td>\n",
       "      <td>25.12</td>\n",
       "      <td>51.0</td>\n",
       "    </tr>\n",
       "    <tr>\n",
       "      <th>9</th>\n",
       "      <td>19:00</td>\n",
       "      <td>209.0</td>\n",
       "      <td>22.97</td>\n",
       "      <td>48.0</td>\n",
       "    </tr>\n",
       "    <tr>\n",
       "      <th>10</th>\n",
       "      <td>21:00</td>\n",
       "      <td>233.0</td>\n",
       "      <td>18.45</td>\n",
       "      <td>43.0</td>\n",
       "    </tr>\n",
       "    <tr>\n",
       "      <th>11</th>\n",
       "      <td>18:00</td>\n",
       "      <td>198.0</td>\n",
       "      <td>20.71</td>\n",
       "      <td>41.0</td>\n",
       "    </tr>\n",
       "    <tr>\n",
       "      <th>12</th>\n",
       "      <td>22:00</td>\n",
       "      <td>190.0</td>\n",
       "      <td>21.05</td>\n",
       "      <td>40.0</td>\n",
       "    </tr>\n",
       "    <tr>\n",
       "      <th>13</th>\n",
       "      <td>20:00</td>\n",
       "      <td>203.0</td>\n",
       "      <td>17.73</td>\n",
       "      <td>36.0</td>\n",
       "    </tr>\n",
       "    <tr>\n",
       "      <th>14</th>\n",
       "      <td>08:00</td>\n",
       "      <td>159.0</td>\n",
       "      <td>22.64</td>\n",
       "      <td>36.0</td>\n",
       "    </tr>\n",
       "    <tr>\n",
       "      <th>15</th>\n",
       "      <td>23:00</td>\n",
       "      <td>157.0</td>\n",
       "      <td>19.11</td>\n",
       "      <td>30.0</td>\n",
       "    </tr>\n",
       "    <tr>\n",
       "      <th>16</th>\n",
       "      <td>00:00</td>\n",
       "      <td>115.0</td>\n",
       "      <td>16.52</td>\n",
       "      <td>19.0</td>\n",
       "    </tr>\n",
       "    <tr>\n",
       "      <th>17</th>\n",
       "      <td>01:00</td>\n",
       "      <td>74.0</td>\n",
       "      <td>17.57</td>\n",
       "      <td>13.0</td>\n",
       "    </tr>\n",
       "    <tr>\n",
       "      <th>18</th>\n",
       "      <td>07:00</td>\n",
       "      <td>85.0</td>\n",
       "      <td>14.12</td>\n",
       "      <td>12.0</td>\n",
       "    </tr>\n",
       "    <tr>\n",
       "      <th>19</th>\n",
       "      <td>06:00</td>\n",
       "      <td>53.0</td>\n",
       "      <td>15.09</td>\n",
       "      <td>8.0</td>\n",
       "    </tr>\n",
       "    <tr>\n",
       "      <th>20</th>\n",
       "      <td>02:00</td>\n",
       "      <td>56.0</td>\n",
       "      <td>12.50</td>\n",
       "      <td>7.0</td>\n",
       "    </tr>\n",
       "    <tr>\n",
       "      <th>21</th>\n",
       "      <td>03:00</td>\n",
       "      <td>38.0</td>\n",
       "      <td>15.79</td>\n",
       "      <td>6.0</td>\n",
       "    </tr>\n",
       "    <tr>\n",
       "      <th>22</th>\n",
       "      <td>04:00</td>\n",
       "      <td>33.0</td>\n",
       "      <td>18.18</td>\n",
       "      <td>6.0</td>\n",
       "    </tr>\n",
       "    <tr>\n",
       "      <th>23</th>\n",
       "      <td>05:00</td>\n",
       "      <td>42.0</td>\n",
       "      <td>9.52</td>\n",
       "      <td>4.0</td>\n",
       "    </tr>\n",
       "  </tbody>\n",
       "</table>\n",
       "</div>"
      ],
      "text/plain": [
       "     Hour  Visits  Share of robots, %  Visits of robots\n",
       "0   13:00   273.0               29.30              80.0\n",
       "1   16:00   310.0               24.19              75.0\n",
       "2   12:00   303.0               24.75              75.0\n",
       "3   14:00   300.0               24.67              74.0\n",
       "4   15:00   297.0               23.91              71.0\n",
       "5   11:00   282.0               24.82              70.0\n",
       "6   17:00   262.0               25.19              66.0\n",
       "7   10:00   240.0               21.25              51.0\n",
       "8   09:00   203.0               25.12              51.0\n",
       "9   19:00   209.0               22.97              48.0\n",
       "10  21:00   233.0               18.45              43.0\n",
       "11  18:00   198.0               20.71              41.0\n",
       "12  22:00   190.0               21.05              40.0\n",
       "13  20:00   203.0               17.73              36.0\n",
       "14  08:00   159.0               22.64              36.0\n",
       "15  23:00   157.0               19.11              30.0\n",
       "16  00:00   115.0               16.52              19.0\n",
       "17  01:00    74.0               17.57              13.0\n",
       "18  07:00    85.0               14.12              12.0\n",
       "19  06:00    53.0               15.09               8.0\n",
       "20  02:00    56.0               12.50               7.0\n",
       "21  03:00    38.0               15.79               6.0\n",
       "22  04:00    33.0               18.18               6.0\n",
       "23  05:00    42.0                9.52               4.0"
      ]
     },
     "metadata": {},
     "output_type": "display_data"
    }
   ],
   "source": [
    "metrika_data3 = response3.json()\n",
    "metrika_list_of_dicts3 = getMetrikaDataInListOfDicts(metrika_data3)\n",
    "metrika_df3 = pd.DataFrame(metrika_list_of_dicts3)\n",
    "metrika_df3.columns = ['Hour','Visits','Share of robots, %']\n",
    "metrika_df3['Share of robots, %'] = round(metrika_df3['Share of robots, %'], 2)\n",
    "metrika_df3['Visits of robots'] = round((metrika_df3['Visits'] * metrika_df3['Share of robots, %']) / 100, 0)\n",
    "display(metrika_df3.sort_values('Visits of robots', ascending=False, ignore_index=True))"
   ]
  },
  {
   "cell_type": "markdown",
   "metadata": {},
   "source": [
    "Чтобы результаты были более наглядными, сделаем визуализацию."
   ]
  },
  {
   "cell_type": "code",
   "execution_count": 11,
   "metadata": {},
   "outputs": [
    {
     "data": {
      "application/vnd.plotly.v1+json": {
       "config": {
        "plotlyServerURL": "https://plot.ly"
       },
       "data": [
        {
         "alignmentgroup": "True",
         "cliponaxis": false,
         "hovertemplate": "Hour=%{x}<br>Visits of robots=%{text}<extra></extra>",
         "legendgroup": "",
         "marker": {
          "color": "#636efa",
          "pattern": {
           "shape": ""
          }
         },
         "name": "",
         "offsetgroup": "",
         "orientation": "v",
         "showlegend": false,
         "text": [
          19,
          13,
          7,
          6,
          6,
          4,
          8,
          12,
          36,
          51,
          51,
          70,
          75,
          80,
          74,
          71,
          75,
          66,
          41,
          48,
          36,
          43,
          40,
          30
         ],
         "textangle": 0,
         "textfont": {
          "size": 12
         },
         "textposition": "outside",
         "texttemplate": "%{y:.2s}",
         "type": "bar",
         "x": [
          "00:00",
          "01:00",
          "02:00",
          "03:00",
          "04:00",
          "05:00",
          "06:00",
          "07:00",
          "08:00",
          "09:00",
          "10:00",
          "11:00",
          "12:00",
          "13:00",
          "14:00",
          "15:00",
          "16:00",
          "17:00",
          "18:00",
          "19:00",
          "20:00",
          "21:00",
          "22:00",
          "23:00"
         ],
         "xaxis": "x",
         "y": [
          19,
          13,
          7,
          6,
          6,
          4,
          8,
          12,
          36,
          51,
          51,
          70,
          75,
          80,
          74,
          71,
          75,
          66,
          41,
          48,
          36,
          43,
          40,
          30
         ],
         "yaxis": "y"
        }
       ],
       "layout": {
        "barmode": "relative",
        "legend": {
         "tracegroupgap": 0
        },
        "template": {
         "data": {
          "bar": [
           {
            "error_x": {
             "color": "#2a3f5f"
            },
            "error_y": {
             "color": "#2a3f5f"
            },
            "marker": {
             "line": {
              "color": "#E5ECF6",
              "width": 0.5
             },
             "pattern": {
              "fillmode": "overlay",
              "size": 10,
              "solidity": 0.2
             }
            },
            "type": "bar"
           }
          ],
          "barpolar": [
           {
            "marker": {
             "line": {
              "color": "#E5ECF6",
              "width": 0.5
             },
             "pattern": {
              "fillmode": "overlay",
              "size": 10,
              "solidity": 0.2
             }
            },
            "type": "barpolar"
           }
          ],
          "carpet": [
           {
            "aaxis": {
             "endlinecolor": "#2a3f5f",
             "gridcolor": "white",
             "linecolor": "white",
             "minorgridcolor": "white",
             "startlinecolor": "#2a3f5f"
            },
            "baxis": {
             "endlinecolor": "#2a3f5f",
             "gridcolor": "white",
             "linecolor": "white",
             "minorgridcolor": "white",
             "startlinecolor": "#2a3f5f"
            },
            "type": "carpet"
           }
          ],
          "choropleth": [
           {
            "colorbar": {
             "outlinewidth": 0,
             "ticks": ""
            },
            "type": "choropleth"
           }
          ],
          "contour": [
           {
            "colorbar": {
             "outlinewidth": 0,
             "ticks": ""
            },
            "colorscale": [
             [
              0,
              "#0d0887"
             ],
             [
              0.1111111111111111,
              "#46039f"
             ],
             [
              0.2222222222222222,
              "#7201a8"
             ],
             [
              0.3333333333333333,
              "#9c179e"
             ],
             [
              0.4444444444444444,
              "#bd3786"
             ],
             [
              0.5555555555555556,
              "#d8576b"
             ],
             [
              0.6666666666666666,
              "#ed7953"
             ],
             [
              0.7777777777777778,
              "#fb9f3a"
             ],
             [
              0.8888888888888888,
              "#fdca26"
             ],
             [
              1,
              "#f0f921"
             ]
            ],
            "type": "contour"
           }
          ],
          "contourcarpet": [
           {
            "colorbar": {
             "outlinewidth": 0,
             "ticks": ""
            },
            "type": "contourcarpet"
           }
          ],
          "heatmap": [
           {
            "colorbar": {
             "outlinewidth": 0,
             "ticks": ""
            },
            "colorscale": [
             [
              0,
              "#0d0887"
             ],
             [
              0.1111111111111111,
              "#46039f"
             ],
             [
              0.2222222222222222,
              "#7201a8"
             ],
             [
              0.3333333333333333,
              "#9c179e"
             ],
             [
              0.4444444444444444,
              "#bd3786"
             ],
             [
              0.5555555555555556,
              "#d8576b"
             ],
             [
              0.6666666666666666,
              "#ed7953"
             ],
             [
              0.7777777777777778,
              "#fb9f3a"
             ],
             [
              0.8888888888888888,
              "#fdca26"
             ],
             [
              1,
              "#f0f921"
             ]
            ],
            "type": "heatmap"
           }
          ],
          "heatmapgl": [
           {
            "colorbar": {
             "outlinewidth": 0,
             "ticks": ""
            },
            "colorscale": [
             [
              0,
              "#0d0887"
             ],
             [
              0.1111111111111111,
              "#46039f"
             ],
             [
              0.2222222222222222,
              "#7201a8"
             ],
             [
              0.3333333333333333,
              "#9c179e"
             ],
             [
              0.4444444444444444,
              "#bd3786"
             ],
             [
              0.5555555555555556,
              "#d8576b"
             ],
             [
              0.6666666666666666,
              "#ed7953"
             ],
             [
              0.7777777777777778,
              "#fb9f3a"
             ],
             [
              0.8888888888888888,
              "#fdca26"
             ],
             [
              1,
              "#f0f921"
             ]
            ],
            "type": "heatmapgl"
           }
          ],
          "histogram": [
           {
            "marker": {
             "pattern": {
              "fillmode": "overlay",
              "size": 10,
              "solidity": 0.2
             }
            },
            "type": "histogram"
           }
          ],
          "histogram2d": [
           {
            "colorbar": {
             "outlinewidth": 0,
             "ticks": ""
            },
            "colorscale": [
             [
              0,
              "#0d0887"
             ],
             [
              0.1111111111111111,
              "#46039f"
             ],
             [
              0.2222222222222222,
              "#7201a8"
             ],
             [
              0.3333333333333333,
              "#9c179e"
             ],
             [
              0.4444444444444444,
              "#bd3786"
             ],
             [
              0.5555555555555556,
              "#d8576b"
             ],
             [
              0.6666666666666666,
              "#ed7953"
             ],
             [
              0.7777777777777778,
              "#fb9f3a"
             ],
             [
              0.8888888888888888,
              "#fdca26"
             ],
             [
              1,
              "#f0f921"
             ]
            ],
            "type": "histogram2d"
           }
          ],
          "histogram2dcontour": [
           {
            "colorbar": {
             "outlinewidth": 0,
             "ticks": ""
            },
            "colorscale": [
             [
              0,
              "#0d0887"
             ],
             [
              0.1111111111111111,
              "#46039f"
             ],
             [
              0.2222222222222222,
              "#7201a8"
             ],
             [
              0.3333333333333333,
              "#9c179e"
             ],
             [
              0.4444444444444444,
              "#bd3786"
             ],
             [
              0.5555555555555556,
              "#d8576b"
             ],
             [
              0.6666666666666666,
              "#ed7953"
             ],
             [
              0.7777777777777778,
              "#fb9f3a"
             ],
             [
              0.8888888888888888,
              "#fdca26"
             ],
             [
              1,
              "#f0f921"
             ]
            ],
            "type": "histogram2dcontour"
           }
          ],
          "mesh3d": [
           {
            "colorbar": {
             "outlinewidth": 0,
             "ticks": ""
            },
            "type": "mesh3d"
           }
          ],
          "parcoords": [
           {
            "line": {
             "colorbar": {
              "outlinewidth": 0,
              "ticks": ""
             }
            },
            "type": "parcoords"
           }
          ],
          "pie": [
           {
            "automargin": true,
            "type": "pie"
           }
          ],
          "scatter": [
           {
            "fillpattern": {
             "fillmode": "overlay",
             "size": 10,
             "solidity": 0.2
            },
            "type": "scatter"
           }
          ],
          "scatter3d": [
           {
            "line": {
             "colorbar": {
              "outlinewidth": 0,
              "ticks": ""
             }
            },
            "marker": {
             "colorbar": {
              "outlinewidth": 0,
              "ticks": ""
             }
            },
            "type": "scatter3d"
           }
          ],
          "scattercarpet": [
           {
            "marker": {
             "colorbar": {
              "outlinewidth": 0,
              "ticks": ""
             }
            },
            "type": "scattercarpet"
           }
          ],
          "scattergeo": [
           {
            "marker": {
             "colorbar": {
              "outlinewidth": 0,
              "ticks": ""
             }
            },
            "type": "scattergeo"
           }
          ],
          "scattergl": [
           {
            "marker": {
             "colorbar": {
              "outlinewidth": 0,
              "ticks": ""
             }
            },
            "type": "scattergl"
           }
          ],
          "scattermapbox": [
           {
            "marker": {
             "colorbar": {
              "outlinewidth": 0,
              "ticks": ""
             }
            },
            "type": "scattermapbox"
           }
          ],
          "scatterpolar": [
           {
            "marker": {
             "colorbar": {
              "outlinewidth": 0,
              "ticks": ""
             }
            },
            "type": "scatterpolar"
           }
          ],
          "scatterpolargl": [
           {
            "marker": {
             "colorbar": {
              "outlinewidth": 0,
              "ticks": ""
             }
            },
            "type": "scatterpolargl"
           }
          ],
          "scatterternary": [
           {
            "marker": {
             "colorbar": {
              "outlinewidth": 0,
              "ticks": ""
             }
            },
            "type": "scatterternary"
           }
          ],
          "surface": [
           {
            "colorbar": {
             "outlinewidth": 0,
             "ticks": ""
            },
            "colorscale": [
             [
              0,
              "#0d0887"
             ],
             [
              0.1111111111111111,
              "#46039f"
             ],
             [
              0.2222222222222222,
              "#7201a8"
             ],
             [
              0.3333333333333333,
              "#9c179e"
             ],
             [
              0.4444444444444444,
              "#bd3786"
             ],
             [
              0.5555555555555556,
              "#d8576b"
             ],
             [
              0.6666666666666666,
              "#ed7953"
             ],
             [
              0.7777777777777778,
              "#fb9f3a"
             ],
             [
              0.8888888888888888,
              "#fdca26"
             ],
             [
              1,
              "#f0f921"
             ]
            ],
            "type": "surface"
           }
          ],
          "table": [
           {
            "cells": {
             "fill": {
              "color": "#EBF0F8"
             },
             "line": {
              "color": "white"
             }
            },
            "header": {
             "fill": {
              "color": "#C8D4E3"
             },
             "line": {
              "color": "white"
             }
            },
            "type": "table"
           }
          ]
         },
         "layout": {
          "annotationdefaults": {
           "arrowcolor": "#2a3f5f",
           "arrowhead": 0,
           "arrowwidth": 1
          },
          "autotypenumbers": "strict",
          "coloraxis": {
           "colorbar": {
            "outlinewidth": 0,
            "ticks": ""
           }
          },
          "colorscale": {
           "diverging": [
            [
             0,
             "#8e0152"
            ],
            [
             0.1,
             "#c51b7d"
            ],
            [
             0.2,
             "#de77ae"
            ],
            [
             0.3,
             "#f1b6da"
            ],
            [
             0.4,
             "#fde0ef"
            ],
            [
             0.5,
             "#f7f7f7"
            ],
            [
             0.6,
             "#e6f5d0"
            ],
            [
             0.7,
             "#b8e186"
            ],
            [
             0.8,
             "#7fbc41"
            ],
            [
             0.9,
             "#4d9221"
            ],
            [
             1,
             "#276419"
            ]
           ],
           "sequential": [
            [
             0,
             "#0d0887"
            ],
            [
             0.1111111111111111,
             "#46039f"
            ],
            [
             0.2222222222222222,
             "#7201a8"
            ],
            [
             0.3333333333333333,
             "#9c179e"
            ],
            [
             0.4444444444444444,
             "#bd3786"
            ],
            [
             0.5555555555555556,
             "#d8576b"
            ],
            [
             0.6666666666666666,
             "#ed7953"
            ],
            [
             0.7777777777777778,
             "#fb9f3a"
            ],
            [
             0.8888888888888888,
             "#fdca26"
            ],
            [
             1,
             "#f0f921"
            ]
           ],
           "sequentialminus": [
            [
             0,
             "#0d0887"
            ],
            [
             0.1111111111111111,
             "#46039f"
            ],
            [
             0.2222222222222222,
             "#7201a8"
            ],
            [
             0.3333333333333333,
             "#9c179e"
            ],
            [
             0.4444444444444444,
             "#bd3786"
            ],
            [
             0.5555555555555556,
             "#d8576b"
            ],
            [
             0.6666666666666666,
             "#ed7953"
            ],
            [
             0.7777777777777778,
             "#fb9f3a"
            ],
            [
             0.8888888888888888,
             "#fdca26"
            ],
            [
             1,
             "#f0f921"
            ]
           ]
          },
          "colorway": [
           "#636efa",
           "#EF553B",
           "#00cc96",
           "#ab63fa",
           "#FFA15A",
           "#19d3f3",
           "#FF6692",
           "#B6E880",
           "#FF97FF",
           "#FECB52"
          ],
          "font": {
           "color": "#2a3f5f"
          },
          "geo": {
           "bgcolor": "white",
           "lakecolor": "white",
           "landcolor": "#E5ECF6",
           "showlakes": true,
           "showland": true,
           "subunitcolor": "white"
          },
          "hoverlabel": {
           "align": "left"
          },
          "hovermode": "closest",
          "mapbox": {
           "style": "light"
          },
          "paper_bgcolor": "white",
          "plot_bgcolor": "#E5ECF6",
          "polar": {
           "angularaxis": {
            "gridcolor": "white",
            "linecolor": "white",
            "ticks": ""
           },
           "bgcolor": "#E5ECF6",
           "radialaxis": {
            "gridcolor": "white",
            "linecolor": "white",
            "ticks": ""
           }
          },
          "scene": {
           "xaxis": {
            "backgroundcolor": "#E5ECF6",
            "gridcolor": "white",
            "gridwidth": 2,
            "linecolor": "white",
            "showbackground": true,
            "ticks": "",
            "zerolinecolor": "white"
           },
           "yaxis": {
            "backgroundcolor": "#E5ECF6",
            "gridcolor": "white",
            "gridwidth": 2,
            "linecolor": "white",
            "showbackground": true,
            "ticks": "",
            "zerolinecolor": "white"
           },
           "zaxis": {
            "backgroundcolor": "#E5ECF6",
            "gridcolor": "white",
            "gridwidth": 2,
            "linecolor": "white",
            "showbackground": true,
            "ticks": "",
            "zerolinecolor": "white"
           }
          },
          "shapedefaults": {
           "line": {
            "color": "#2a3f5f"
           }
          },
          "ternary": {
           "aaxis": {
            "gridcolor": "white",
            "linecolor": "white",
            "ticks": ""
           },
           "baxis": {
            "gridcolor": "white",
            "linecolor": "white",
            "ticks": ""
           },
           "bgcolor": "#E5ECF6",
           "caxis": {
            "gridcolor": "white",
            "linecolor": "white",
            "ticks": ""
           }
          },
          "title": {
           "x": 0.05
          },
          "xaxis": {
           "automargin": true,
           "gridcolor": "white",
           "linecolor": "white",
           "ticks": "",
           "title": {
            "standoff": 15
           },
           "zerolinecolor": "white",
           "zerolinewidth": 2
          },
          "yaxis": {
           "automargin": true,
           "gridcolor": "white",
           "linecolor": "white",
           "ticks": "",
           "title": {
            "standoff": 15
           },
           "zerolinecolor": "white",
           "zerolinewidth": 2
          }
         }
        },
        "title": {
         "text": "Number of visits of robots during the day"
        },
        "xaxis": {
         "anchor": "y",
         "domain": [
          0,
          1
         ],
         "title": {
          "text": "Hour"
         }
        },
        "yaxis": {
         "anchor": "x",
         "domain": [
          0,
          1
         ],
         "title": {
          "text": "Visits of robots"
         }
        }
       }
      }
     },
     "metadata": {},
     "output_type": "display_data"
    }
   ],
   "source": [
    "import plotly.express as px\n",
    "\n",
    "fig = px.bar(\n",
    "    metrika_df3.sort_values('Hour'),\n",
    "    x='Hour',\n",
    "    y='Visits of robots',\n",
    "    text='Visits of robots',\n",
    "    text_auto='.2s',\n",
    "    title=\"Number of visits of robots during the day\"\n",
    ")\n",
    "fig.update_traces(\n",
    "    textfont_size=12, \n",
    "    textangle=0, \n",
    "    textposition=\"outside\",\n",
    "    cliponaxis=False\n",
    ")\n",
    "fig.show()"
   ]
  },
  {
   "cell_type": "markdown",
   "metadata": {},
   "source": [
    "**Вывод:**\n",
    "\n",
    "Чаще всего роботы посещали сайт в дневное время - с 11:00 до 18:00 (пик в 13:00-14:00).\n",
    "\n",
    "Минимальная активность наблюдалась ночью и рано утром - с полуночи до 8:00."
   ]
  },
  {
   "cell_type": "markdown",
   "metadata": {},
   "source": [
    "# Итог\n",
    "\n",
    "***Задача 1. Оценить количество ботов, которые заходят на наш сайт, и их долю от всего трафика.***\n",
    "\n",
    "В сентябре 2020 г. сайт посетили 794 робота, 24% от общего количества пользователей. Они совершили 962 визита, 22,3% от общего количества визитов.\n",
    "\n",
    "***Задача 2. Определить, с каких источников и в какое время суток чаще всего заходят роботы.***\n",
    "\n",
    "В сентябре 2020 г. роботы чаще всего попадали на сайт через поисковые системы (725 визитов) и по прямым переходам (195 визитов). Реже они заходили по ссылкам (30 визитов), из соцсетей(11 визитов) и по кэшированным страницам (1 визит). Как правило доля роботов от общего числа визитов составляла 22%-25%. Только при переходах из соцсетей она была заметно ниже - 15,71%.\n",
    "\n",
    "Чаще всего роботы посещали сайт в дневное время - с 11:00 до 18:00 (пик в 13:00-14:00). Минимальная активность наблюдалась ночью и рано утром - с полуночи до 8:00.\n"
   ]
  }
 ],
 "metadata": {
  "kernelspec": {
   "display_name": "Python 3.9.10 64-bit",
   "language": "python",
   "name": "python3"
  },
  "language_info": {
   "codemirror_mode": {
    "name": "ipython",
    "version": 3
   },
   "file_extension": ".py",
   "mimetype": "text/x-python",
   "name": "python",
   "nbconvert_exporter": "python",
   "pygments_lexer": "ipython3",
   "version": "3.9.10"
  },
  "orig_nbformat": 4,
  "vscode": {
   "interpreter": {
    "hash": "f544ea10d7c1fcbd80d1f5f5f03b3c8b55db4e56d7c22e2128ddade55e0e69ba"
   }
  }
 },
 "nbformat": 4,
 "nbformat_minor": 2
}
